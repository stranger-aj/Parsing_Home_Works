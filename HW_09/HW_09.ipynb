{
 "cells": [
  {
   "cell_type": "markdown",
   "id": "0f7f46ec-88ca-42aa-b785-b989b2db0156",
   "metadata": {},
   "source": [
    "- Задание 1.\n",
    "Выберите датасет, который имеет отношение к вашей области интересов или исследований. \n",
    "Датасет должен содержать неструктурированные данные, требующие разметки для решения конкретной задачи, например, \n",
    "анализа настроений или распознавания именованных сущностей.\n",
    "- Задание 2.\n",
    "Выполните разметку на основе правил (rule-based labeling) на подмножестве выбранного датасета. \n",
    "Разработайте и реализуйте набор правил или условий, которые позволят автоматически присваивать метки \n",
    "данным на основе определенных шаблонов или критериев.\n",
    "- Задача 3.\n",
    "Выполните разметку вручную отдельного подмножества выбранного датасета с помощью выбранного вами инструмента разметки.\n",
    "- Задача 4.\n",
    "Объедините данные, размеченные вручную, с данными, размеченными на основе правил. \n",
    "Объедините два подмножества размеченных данных в один набор данных, сохранив при этом соответствующую структуру и целостность.\n",
    "- Задача 5.\n",
    "Обучите модель машинного обучения, используя объединенный набор размеченных данных. \n",
    "Разделите датасет на обучающий и тестовый наборы и используйте обучающий набор для обучения модели.\n",
    "- Задача 6.\n",
    "Оценить эффективность обученной модели на тестовом датасете. Используйте подходящие метрики оценки. \n",
    "Интерпретируйте результаты и проанализируйте эффективность модели в решении задачи разметки."
   ]
  },
  {
   "cell_type": "code",
   "execution_count": 2,
   "id": "991d0165-b822-47f4-8d5a-7a7847672c85",
   "metadata": {},
   "outputs": [],
   "source": [
    "from sklearn.feature_extraction.text import TfidfVectorizer\n",
    "from sklearn.linear_model import LogisticRegression\n",
    "from sklearn.model_selection import train_test_split\n",
    "from sklearn.metrics import f1_score\n",
    "from sklearn.utils import shuffle\n",
    "import pandas as pd\n",
    "import numpy as np"
   ]
  },
  {
   "cell_type": "code",
   "execution_count": 3,
   "id": "9e85c927-31bf-4481-a4dd-63d6e6711cb2",
   "metadata": {},
   "outputs": [],
   "source": [
    "# для обучения был выбран датасет по ссылке https://www.kaggle.com/competitions/fake-news/data\n",
    "# цель - научить ИИ определять фейковые новости\n",
    "# загружаем файл с данными:\n",
    "df = pd.read_csv('full_data.csv', engine='python', encoding='utf-8', on_bad_lines=\"skip\", encoding_errors=\"ignore\")"
   ]
  },
  {
   "cell_type": "code",
   "execution_count": 4,
   "id": "e55758a6-f084-42bb-8abc-58cc381fb4cb",
   "metadata": {},
   "outputs": [
    {
     "data": {
      "text/html": [
       "<div>\n",
       "<style scoped>\n",
       "    .dataframe tbody tr th:only-of-type {\n",
       "        vertical-align: middle;\n",
       "    }\n",
       "\n",
       "    .dataframe tbody tr th {\n",
       "        vertical-align: top;\n",
       "    }\n",
       "\n",
       "    .dataframe thead th {\n",
       "        text-align: right;\n",
       "    }\n",
       "</style>\n",
       "<table border=\"1\" class=\"dataframe\">\n",
       "  <thead>\n",
       "    <tr style=\"text-align: right;\">\n",
       "      <th></th>\n",
       "      <th>title</th>\n",
       "      <th>author</th>\n",
       "      <th>text</th>\n",
       "      <th>label</th>\n",
       "      <th>id</th>\n",
       "    </tr>\n",
       "  </thead>\n",
       "  <tbody>\n",
       "    <tr>\n",
       "      <th>0</th>\n",
       "      <td>House Dem Aide: We Didn’t Even See Comey’s Let...</td>\n",
       "      <td>Darrell Lucus</td>\n",
       "      <td>House Dem Aide: We Didn’t Even See Comey’s Let...</td>\n",
       "      <td>1.0</td>\n",
       "      <td>1</td>\n",
       "    </tr>\n",
       "    <tr>\n",
       "      <th>1</th>\n",
       "      <td>FLYNN: Hillary Clinton, Big Woman on Campus - ...</td>\n",
       "      <td>Daniel J. Flynn</td>\n",
       "      <td>Ever get the feeling your life circles the rou...</td>\n",
       "      <td>0.0</td>\n",
       "      <td>2</td>\n",
       "    </tr>\n",
       "    <tr>\n",
       "      <th>2</th>\n",
       "      <td>Why the Truth Might Get You Fired</td>\n",
       "      <td>Consortiumnews.com</td>\n",
       "      <td>Why the Truth Might Get You Fired October 29, ...</td>\n",
       "      <td>1.0</td>\n",
       "      <td>3</td>\n",
       "    </tr>\n",
       "  </tbody>\n",
       "</table>\n",
       "</div>"
      ],
      "text/plain": [
       "                                               title              author  \\\n",
       "0  House Dem Aide: We Didn’t Even See Comey’s Let...       Darrell Lucus   \n",
       "1  FLYNN: Hillary Clinton, Big Woman on Campus - ...     Daniel J. Flynn   \n",
       "2                  Why the Truth Might Get You Fired  Consortiumnews.com   \n",
       "\n",
       "                                                text  label  id  \n",
       "0  House Dem Aide: We Didn’t Even See Comey’s Let...    1.0   1  \n",
       "1  Ever get the feeling your life circles the rou...    0.0   2  \n",
       "2  Why the Truth Might Get You Fired October 29, ...    1.0   3  "
      ]
     },
     "execution_count": 4,
     "metadata": {},
     "output_type": "execute_result"
    }
   ],
   "source": [
    "df.head(3)"
   ]
  },
  {
   "cell_type": "code",
   "execution_count": 5,
   "id": "9a5df67d-e05d-4245-a6a3-1f6d55bcdc14",
   "metadata": {},
   "outputs": [
    {
     "name": "stdout",
     "output_type": "stream",
     "text": [
      "<class 'pandas.core.frame.DataFrame'>\n",
      "RangeIndex: 26014 entries, 0 to 26013\n",
      "Data columns (total 5 columns):\n",
      " #   Column  Non-Null Count  Dtype  \n",
      "---  ------  --------------  -----  \n",
      " 0   title   25329 non-null  object \n",
      " 1   author  23541 non-null  object \n",
      " 2   text    25953 non-null  object \n",
      " 3   label   25998 non-null  float64\n",
      " 4   id      26014 non-null  int64  \n",
      "dtypes: float64(1), int64(1), object(3)\n",
      "memory usage: 1016.3+ KB\n"
     ]
    }
   ],
   "source": [
    "df.info()"
   ]
  },
  {
   "cell_type": "code",
   "execution_count": 6,
   "id": "0a5dd0fa-4e81-4c7f-bf10-dabfe1b2579c",
   "metadata": {},
   "outputs": [
    {
     "name": "stdout",
     "output_type": "stream",
     "text": [
      "<class 'pandas.core.frame.DataFrame'>\n",
      "Index: 25952 entries, 0 to 26013\n",
      "Data columns (total 5 columns):\n",
      " #   Column  Non-Null Count  Dtype \n",
      "---  ------  --------------  ----- \n",
      " 0   title   25272 non-null  object\n",
      " 1   author  23538 non-null  object\n",
      " 2   text    25952 non-null  object\n",
      " 3   label   25952 non-null  int64 \n",
      " 4   id      25952 non-null  int64 \n",
      "dtypes: int64(2), object(3)\n",
      "memory usage: 1.2+ MB\n"
     ]
    }
   ],
   "source": [
    "# удаляем строки с отсутствующими данными в колонке 'text' и 'label'\n",
    "df = df.dropna(subset=['text','label'])\n",
    "# преобразуем тип поля 'label'\n",
    "df['label'] = df['label'].astype('int64')\n",
    "df.info()"
   ]
  },
  {
   "cell_type": "code",
   "execution_count": 7,
   "id": "3d216790-edad-405d-9607-142eadf94cf3",
   "metadata": {},
   "outputs": [
    {
     "data": {
      "text/plain": [
       "<Axes: >"
      ]
     },
     "execution_count": 7,
     "metadata": {},
     "output_type": "execute_result"
    },
    {
     "data": {
      "image/png": "[encoded data removed]",
      "text/plain": [
       "<Figure size 640x480 with 1 Axes>"
      ]
     },
     "metadata": {},
     "output_type": "display_data"
    }
   ],
   "source": [
    "# смотрим распределение меток в датасете\n",
    "df['label'].hist()"
   ]
  },
  {
   "cell_type": "code",
   "execution_count": 8,
   "id": "d4c1be3c-aa89-49eb-98d3-89d495df885d",
   "metadata": {},
   "outputs": [
    {
     "data": {
      "text/html": [
       "<div>\n",
       "<style scoped>\n",
       "    .dataframe tbody tr th:only-of-type {\n",
       "        vertical-align: middle;\n",
       "    }\n",
       "\n",
       "    .dataframe tbody tr th {\n",
       "        vertical-align: top;\n",
       "    }\n",
       "\n",
       "    .dataframe thead th {\n",
       "        text-align: right;\n",
       "    }\n",
       "</style>\n",
       "<table border=\"1\" class=\"dataframe\">\n",
       "  <thead>\n",
       "    <tr style=\"text-align: right;\">\n",
       "      <th></th>\n",
       "      <th>title</th>\n",
       "      <th>author</th>\n",
       "      <th>text</th>\n",
       "      <th>label</th>\n",
       "      <th>id</th>\n",
       "    </tr>\n",
       "  </thead>\n",
       "  <tbody>\n",
       "    <tr>\n",
       "      <th>0</th>\n",
       "      <td>House Dem Aide: We Didn’t Even See Comey’s Let...</td>\n",
       "      <td>Darrell Lucus</td>\n",
       "      <td>House Dem Aide: We Didn’t Even See Comey’s Let...</td>\n",
       "      <td>1</td>\n",
       "      <td>1</td>\n",
       "    </tr>\n",
       "    <tr>\n",
       "      <th>1</th>\n",
       "      <td>FLYNN: Hillary Clinton, Big Woman on Campus - ...</td>\n",
       "      <td>Daniel J. Flynn</td>\n",
       "      <td>Ever get the feeling your life circles the rou...</td>\n",
       "      <td>0</td>\n",
       "      <td>2</td>\n",
       "    </tr>\n",
       "    <tr>\n",
       "      <th>2</th>\n",
       "      <td>Why the Truth Might Get You Fired</td>\n",
       "      <td>Consortiumnews.com</td>\n",
       "      <td>Why the Truth Might Get You Fired October 29, ...</td>\n",
       "      <td>1</td>\n",
       "      <td>3</td>\n",
       "    </tr>\n",
       "  </tbody>\n",
       "</table>\n",
       "</div>"
      ],
      "text/plain": [
       "                                               title              author  \\\n",
       "0  House Dem Aide: We Didn’t Even See Comey’s Let...       Darrell Lucus   \n",
       "1  FLYNN: Hillary Clinton, Big Woman on Campus - ...     Daniel J. Flynn   \n",
       "2                  Why the Truth Might Get You Fired  Consortiumnews.com   \n",
       "\n",
       "                                                text  label  id  \n",
       "0  House Dem Aide: We Didn’t Even See Comey’s Let...      1   1  \n",
       "1  Ever get the feeling your life circles the rou...      0   2  \n",
       "2  Why the Truth Might Get You Fired October 29, ...      1   3  "
      ]
     },
     "execution_count": 8,
     "metadata": {},
     "output_type": "execute_result"
    }
   ],
   "source": [
    "df.head(3)"
   ]
  },
  {
   "cell_type": "code",
   "execution_count": 9,
   "id": "6f7e755a-46d7-496f-a005-75fbf1f10266",
   "metadata": {},
   "outputs": [
    {
     "name": "stdout",
     "output_type": "stream",
     "text": [
      "<class 'pandas.core.frame.DataFrame'>\n",
      "Index: 7785 entries, 12705 to 10990\n",
      "Data columns (total 5 columns):\n",
      " #   Column  Non-Null Count  Dtype \n",
      "---  ------  --------------  ----- \n",
      " 0   title   7574 non-null   object\n",
      " 1   author  7051 non-null   object\n",
      " 2   text    7785 non-null   object\n",
      " 3   label   7785 non-null   int64 \n",
      " 4   id      7785 non-null   int64 \n",
      "dtypes: int64(2), object(3)\n",
      "memory usage: 364.9+ KB\n"
     ]
    }
   ],
   "source": [
    "# Разделение датасета на размеченную 30% и неразмеченную выборки 70%\n",
    "labeled_news, unlabeled_news = train_test_split(df, train_size=0.3, random_state=32)\n",
    "labeled_news.info()"
   ]
  },
  {
   "cell_type": "code",
   "execution_count": 10,
   "id": "e90ef52e-df55-4d0f-b022-a4e6aee10fd2",
   "metadata": {},
   "outputs": [],
   "source": [
    "# Определение функции для обучения модели логистической регрессии на размеченных данных\n",
    "def train_model(labeled_news):\n",
    "    vectorizer = TfidfVectorizer()\n",
    "    x = vectorizer.fit_transform(labeled_news['text'])\n",
    "    y = labeled_news['label']\n",
    "    model = LogisticRegression()\n",
    "    model.fit(x, y)\n",
    "    return model, vectorizer"
   ]
  },
  {
   "cell_type": "code",
   "execution_count": 11,
   "id": "62c51725-21e9-418f-91fb-fb98625c866c",
   "metadata": {},
   "outputs": [],
   "source": [
    "# Обучение начальной модели на небольшом наборе размеченных данных\n",
    "model, vectorizer = train_model(labeled_news)"
   ]
  },
  {
   "cell_type": "code",
   "execution_count": 12,
   "id": "665769ad-08d8-49f5-9830-e4a758c8931f",
   "metadata": {},
   "outputs": [],
   "source": [
    "# Использование полученной модели для прогнозирования неразмеченных данных\n",
    "x_unlabeled = vectorizer.transform(unlabeled_news['text'])\n",
    "y_unlabeled_predicted = model.predict(x_unlabeled)"
   ]
  },
  {
   "cell_type": "code",
   "execution_count": 13,
   "id": "c8de1435-d0f1-4198-bb1c-88f6a57db49e",
   "metadata": {},
   "outputs": [
    {
     "data": {
      "text/plain": [
       "array([0.72905535, 0.82636064, 0.43995591, ..., 0.80998199, 0.26768515,\n",
       "       0.34314305])"
      ]
     },
     "execution_count": 13,
     "metadata": {},
     "output_type": "execute_result"
    }
   ],
   "source": [
    "# энтропия предсказанных значений\n",
    "y_unlabeled_proba = model.predict_proba(x_unlabeled)\n",
    "uncertainty = -(y_unlabeled_proba * np.log2(y_unlabeled_proba)).sum(axis=1)\n",
    "uncertainty"
   ]
  },
  {
   "cell_type": "code",
   "execution_count": 14,
   "id": "73573eee-c6b7-4c80-b31a-e577aec17016",
   "metadata": {},
   "outputs": [],
   "source": [
    "# Выбор 100 наиболее неопределенных точек данных для проверки и маркировки человеком\n",
    "labeled_news_new = unlabeled_news.iloc[uncertainty.argsort()[:100]]\n",
    "unlabeled_news_new = unlabeled_news.iloc[uncertainty.argsort()[100:]]\n",
    "# сохраняем в отдельный файл\n",
    "labeled_news_new.to_csv('for_labeling.csv', index=False)"
   ]
  },
  {
   "cell_type": "code",
   "execution_count": 15,
   "id": "104cde5c-88ed-4ba1-9c43-9f8bbd3872fe",
   "metadata": {},
   "outputs": [],
   "source": [
    "# разметка в Label Stidio и сохранение в файл for_labeling_ready.csv\n",
    "# скриншот разметки прилагается"
   ]
  },
  {
   "cell_type": "code",
   "execution_count": 22,
   "id": "21b81c33-8a41-461b-a68f-017588cb8b47",
   "metadata": {},
   "outputs": [
    {
     "name": "stdout",
     "output_type": "stream",
     "text": [
      "<class 'pandas.core.frame.DataFrame'>\n",
      "RangeIndex: 99 entries, 0 to 98\n",
      "Data columns (total 11 columns):\n",
      " #   Column         Non-Null Count  Dtype  \n",
      "---  ------         --------------  -----  \n",
      " 0   annotation_id  99 non-null     int64  \n",
      " 1   annotator      99 non-null     int64  \n",
      " 2   author         99 non-null     object \n",
      " 3   created_at     99 non-null     object \n",
      " 4   id             99 non-null     int64  \n",
      " 5   label          99 non-null     int64  \n",
      " 6   lead_time      99 non-null     float64\n",
      " 7   sentiment      99 non-null     object \n",
      " 8   text           99 non-null     object \n",
      " 9   title          99 non-null     object \n",
      " 10  updated_at     99 non-null     object \n",
      "dtypes: float64(1), int64(4), object(6)\n",
      "memory usage: 8.6+ KB\n"
     ]
    }
   ],
   "source": [
    "# загрузка размеченных данных\n",
    "labeled_news_new = pd.read_csv('for_labeling_ready.csv', engine='python', encoding='utf-8', on_bad_lines=\"skip\", encoding_errors=\"ignore\")\n",
    "labeled_news_new.info()"
   ]
  },
  {
   "cell_type": "code",
   "execution_count": 27,
   "id": "05978452-edd4-44b3-bc24-8b51322f543a",
   "metadata": {},
   "outputs": [
    {
     "data": {
      "text/plain": [
       "0       reliable\n",
       "1     unreliable\n",
       "2       reliable\n",
       "3       reliable\n",
       "4       reliable\n",
       "         ...    \n",
       "94      reliable\n",
       "95      reliable\n",
       "96      reliable\n",
       "97      reliable\n",
       "98      reliable\n",
       "Name: sentiment, Length: 99, dtype: object"
      ]
     },
     "execution_count": 27,
     "metadata": {},
     "output_type": "execute_result"
    }
   ],
   "source": [
    "# результат разметки\n",
    "labeled_news_new['sentiment']"
   ]
  },
  {
   "cell_type": "code",
   "execution_count": 28,
   "id": "a432a409-4d1d-461c-ab2f-e27309f9830c",
   "metadata": {},
   "outputs": [
    {
     "name": "stderr",
     "output_type": "stream",
     "text": [
      "C:\\Users\\user\\AppData\\Local\\Temp\\ipykernel_2404\\4294678859.py:1: FutureWarning: Downcasting behavior in `replace` is deprecated and will be removed in a future version. To retain the old behavior, explicitly call `result.infer_objects(copy=False)`. To opt-in to the future behavior, set `pd.set_option('future.no_silent_downcasting', True)`\n",
      "  labeled_news_new['label'] = labeled_news_new['sentiment'].replace({'reliable': 0, 'unreliable': 1})\n"
     ]
    }
   ],
   "source": [
    "# проставляем метки на основе поля 'sentiment'\n",
    "labeled_news_new['label'] = labeled_news_new['sentiment'].replace({'reliable': 0, 'unreliable': 1})"
   ]
  },
  {
   "cell_type": "code",
   "execution_count": 30,
   "id": "5a9b54d9-2270-464c-850f-3a0ddb8a2a8c",
   "metadata": {},
   "outputs": [
    {
     "data": {
      "text/plain": [
       "0     0\n",
       "1     1\n",
       "2     0\n",
       "3     0\n",
       "4     0\n",
       "     ..\n",
       "94    0\n",
       "95    0\n",
       "96    0\n",
       "97    0\n",
       "98    0\n",
       "Name: label, Length: 99, dtype: int64"
      ]
     },
     "execution_count": 30,
     "metadata": {},
     "output_type": "execute_result"
    }
   ],
   "source": [
    "# проверка меток\n",
    "labeled_news_new['label']"
   ]
  },
  {
   "cell_type": "code",
   "execution_count": 33,
   "id": "151f1151-5438-4cd1-a880-7670d5e41c1e",
   "metadata": {},
   "outputs": [],
   "source": [
    "# добавление данных после маркировки человеком к размеченному множеству\n",
    "labeled_news = pd.concat([labeled_news, labeled_news_new])"
   ]
  },
  {
   "cell_type": "code",
   "execution_count": 34,
   "id": "febfb130-e302-457d-bf80-6f043617e0db",
   "metadata": {},
   "outputs": [
    {
     "data": {
      "text/html": [
       "<div>\n",
       "<style scoped>\n",
       "    .dataframe tbody tr th:only-of-type {\n",
       "        vertical-align: middle;\n",
       "    }\n",
       "\n",
       "    .dataframe tbody tr th {\n",
       "        vertical-align: top;\n",
       "    }\n",
       "\n",
       "    .dataframe thead th {\n",
       "        text-align: right;\n",
       "    }\n",
       "</style>\n",
       "<table border=\"1\" class=\"dataframe\">\n",
       "  <thead>\n",
       "    <tr style=\"text-align: right;\">\n",
       "      <th></th>\n",
       "      <th>title</th>\n",
       "      <th>author</th>\n",
       "      <th>text</th>\n",
       "      <th>label</th>\n",
       "      <th>id</th>\n",
       "      <th>annotation_id</th>\n",
       "      <th>annotator</th>\n",
       "      <th>created_at</th>\n",
       "      <th>lead_time</th>\n",
       "      <th>sentiment</th>\n",
       "      <th>updated_at</th>\n",
       "    </tr>\n",
       "  </thead>\n",
       "  <tbody>\n",
       "    <tr>\n",
       "      <th>12705</th>\n",
       "      <td>Anonymous: There Is No One Way To Live On This...</td>\n",
       "      <td>Kalee Brown</td>\n",
       "      <td>Share on Facebook Share on Twitter It’s no sec...</td>\n",
       "      <td>1</td>\n",
       "      <td>12706</td>\n",
       "      <td>NaN</td>\n",
       "      <td>NaN</td>\n",
       "      <td>NaN</td>\n",
       "      <td>NaN</td>\n",
       "      <td>NaN</td>\n",
       "      <td>NaN</td>\n",
       "    </tr>\n",
       "    <tr>\n",
       "      <th>23975</th>\n",
       "      <td>Trump Campaign Was Just Ordered To Appear In C...</td>\n",
       "      <td>Grant Stern</td>\n",
       "      <td>Comments \\nA federal judge in Nevada just drag...</td>\n",
       "      <td>0</td>\n",
       "      <td>23962</td>\n",
       "      <td>NaN</td>\n",
       "      <td>NaN</td>\n",
       "      <td>NaN</td>\n",
       "      <td>NaN</td>\n",
       "      <td>NaN</td>\n",
       "      <td>NaN</td>\n",
       "    </tr>\n",
       "    <tr>\n",
       "      <th>12989</th>\n",
       "      <td>Donald Trump’s Allies Battle for Favor of G.O....</td>\n",
       "      <td>Nicholas Confessore</td>\n",
       "      <td>Carl Icahn was late, but he still had somethin...</td>\n",
       "      <td>0</td>\n",
       "      <td>12990</td>\n",
       "      <td>NaN</td>\n",
       "      <td>NaN</td>\n",
       "      <td>NaN</td>\n",
       "      <td>NaN</td>\n",
       "      <td>NaN</td>\n",
       "      <td>NaN</td>\n",
       "    </tr>\n",
       "  </tbody>\n",
       "</table>\n",
       "</div>"
      ],
      "text/plain": [
       "                                                   title               author  \\\n",
       "12705  Anonymous: There Is No One Way To Live On This...          Kalee Brown   \n",
       "23975  Trump Campaign Was Just Ordered To Appear In C...          Grant Stern   \n",
       "12989  Donald Trump’s Allies Battle for Favor of G.O....  Nicholas Confessore   \n",
       "\n",
       "                                                    text  label     id  \\\n",
       "12705  Share on Facebook Share on Twitter It’s no sec...      1  12706   \n",
       "23975  Comments \\nA federal judge in Nevada just drag...      0  23962   \n",
       "12989  Carl Icahn was late, but he still had somethin...      0  12990   \n",
       "\n",
       "       annotation_id  annotator created_at  lead_time sentiment updated_at  \n",
       "12705            NaN        NaN        NaN        NaN       NaN        NaN  \n",
       "23975            NaN        NaN        NaN        NaN       NaN        NaN  \n",
       "12989            NaN        NaN        NaN        NaN       NaN        NaN  "
      ]
     },
     "execution_count": 34,
     "metadata": {},
     "output_type": "execute_result"
    }
   ],
   "source": [
    "labeled_news.head(3)"
   ]
  },
  {
   "cell_type": "code",
   "execution_count": 35,
   "id": "f9146a87-c2cd-4a7a-aee9-b41741ae00e4",
   "metadata": {},
   "outputs": [
    {
     "name": "stdout",
     "output_type": "stream",
     "text": [
      "<class 'pandas.core.frame.DataFrame'>\n",
      "Index: 8384 entries, 12705 to 98\n",
      "Data columns (total 11 columns):\n",
      " #   Column         Non-Null Count  Dtype  \n",
      "---  ------         --------------  -----  \n",
      " 0   title          8165 non-null   object \n",
      " 1   author         7642 non-null   object \n",
      " 2   text           8384 non-null   object \n",
      " 3   label          8384 non-null   int64  \n",
      " 4   id             8384 non-null   int64  \n",
      " 5   annotation_id  99 non-null     float64\n",
      " 6   annotator      99 non-null     float64\n",
      " 7   created_at     99 non-null     object \n",
      " 8   lead_time      99 non-null     float64\n",
      " 9   sentiment      99 non-null     object \n",
      " 10  updated_at     99 non-null     object \n",
      "dtypes: float64(3), int64(2), object(6)\n",
      "memory usage: 786.0+ KB\n"
     ]
    }
   ],
   "source": [
    "labeled_news.info()"
   ]
  },
  {
   "cell_type": "code",
   "execution_count": 36,
   "id": "8c1085cb-f9e9-49ae-919c-b28b05dbab47",
   "metadata": {},
   "outputs": [],
   "source": [
    "# Переобучение модели на расширенном маркированном множестве\n",
    "model, vectorizer = train_model(labeled_news)"
   ]
  },
  {
   "cell_type": "code",
   "execution_count": 37,
   "id": "cd9999a2-12c4-45e9-8253-8ebca7cfb834",
   "metadata": {},
   "outputs": [
    {
     "data": {
      "text/html": [
       "<div>\n",
       "<style scoped>\n",
       "    .dataframe tbody tr th:only-of-type {\n",
       "        vertical-align: middle;\n",
       "    }\n",
       "\n",
       "    .dataframe tbody tr th {\n",
       "        vertical-align: top;\n",
       "    }\n",
       "\n",
       "    .dataframe thead th {\n",
       "        text-align: right;\n",
       "    }\n",
       "</style>\n",
       "<table border=\"1\" class=\"dataframe\">\n",
       "  <thead>\n",
       "    <tr style=\"text-align: right;\">\n",
       "      <th></th>\n",
       "      <th>title</th>\n",
       "      <th>author</th>\n",
       "      <th>text</th>\n",
       "      <th>label</th>\n",
       "      <th>id</th>\n",
       "    </tr>\n",
       "  </thead>\n",
       "  <tbody>\n",
       "    <tr>\n",
       "      <th>5525</th>\n",
       "      <td>Top 6 Foods That Naturally Unclog Arteries</td>\n",
       "      <td>REALdeal</td>\n",
       "      <td>Your arteries are the system within your body ...</td>\n",
       "      <td>1</td>\n",
       "      <td>5526</td>\n",
       "    </tr>\n",
       "    <tr>\n",
       "      <th>1739</th>\n",
       "      <td>Blue State Blues: Why Do Democrats Undermine L...</td>\n",
       "      <td>Joel B. Pollak</td>\n",
       "      <td>There is something decidedly odd about the Cal...</td>\n",
       "      <td>0</td>\n",
       "      <td>1740</td>\n",
       "    </tr>\n",
       "    <tr>\n",
       "      <th>16172</th>\n",
       "      <td>America and Lackeys Insult People of the World</td>\n",
       "      <td>Finian Cunningham</td>\n",
       "      <td>America and Lackeys Insult People of the Worl...</td>\n",
       "      <td>1</td>\n",
       "      <td>16173</td>\n",
       "    </tr>\n",
       "    <tr>\n",
       "      <th>19103</th>\n",
       "      <td>If Soros Is Jewish Like They Say We Jews Shoul...</td>\n",
       "      <td>A Jew (UID 73270427)</td>\n",
       "      <td>Report Copyright Violation If Soros Is Jewish ...</td>\n",
       "      <td>1</td>\n",
       "      <td>19104</td>\n",
       "    </tr>\n",
       "    <tr>\n",
       "      <th>4115</th>\n",
       "      <td>An Alternate Narrative on Hillary Clinton and ...</td>\n",
       "      <td>Matt Peppe</td>\n",
       "      <td>Email \\nElections in the United States are far...</td>\n",
       "      <td>1</td>\n",
       "      <td>4116</td>\n",
       "    </tr>\n",
       "    <tr>\n",
       "      <th>...</th>\n",
       "      <td>...</td>\n",
       "      <td>...</td>\n",
       "      <td>...</td>\n",
       "      <td>...</td>\n",
       "      <td>...</td>\n",
       "    </tr>\n",
       "    <tr>\n",
       "      <th>17261</th>\n",
       "      <td>Ben Stein: ’Trump Didn’t Do Anything Wrong’ - ...</td>\n",
       "      <td>Trent Baker</td>\n",
       "      <td>During Saturday’s “Cavuto on Business,” former...</td>\n",
       "      <td>0</td>\n",
       "      <td>17262</td>\n",
       "    </tr>\n",
       "    <tr>\n",
       "      <th>8059</th>\n",
       "      <td>Bernie and the Sandernistas</td>\n",
       "      <td>stclair</td>\n",
       "      <td>Post was not sent - check your email addresses...</td>\n",
       "      <td>1</td>\n",
       "      <td>8060</td>\n",
       "    </tr>\n",
       "    <tr>\n",
       "      <th>24591</th>\n",
       "      <td>Joe Biden Plans to Stay Involved in Politics A...</td>\n",
       "      <td>Katherine Rodriguez</td>\n",
       "      <td>Vice President Joe Biden said Wednesday that h...</td>\n",
       "      <td>1</td>\n",
       "      <td>24578</td>\n",
       "    </tr>\n",
       "    <tr>\n",
       "      <th>16160</th>\n",
       "      <td>Bangladeshi Troops Move to End Hostage Standof...</td>\n",
       "      <td>Julfikar Ali Manik, Geeta Anand and Russell Go...</td>\n",
       "      <td>DHAKA, Bangladesh  —   Bangladeshi Army troops...</td>\n",
       "      <td>0</td>\n",
       "      <td>16161</td>\n",
       "    </tr>\n",
       "    <tr>\n",
       "      <th>15484</th>\n",
       "      <td>Civil Rights Act Protects Gay Workers, Court R...</td>\n",
       "      <td>Matthew Haag and Niraj Chokshi</td>\n",
       "      <td>In a significant victory for gay rights, a fed...</td>\n",
       "      <td>0</td>\n",
       "      <td>15485</td>\n",
       "    </tr>\n",
       "  </tbody>\n",
       "</table>\n",
       "<p>18167 rows × 5 columns</p>\n",
       "</div>"
      ],
      "text/plain": [
       "                                                   title  \\\n",
       "5525          Top 6 Foods That Naturally Unclog Arteries   \n",
       "1739   Blue State Blues: Why Do Democrats Undermine L...   \n",
       "16172     America and Lackeys Insult People of the World   \n",
       "19103  If Soros Is Jewish Like They Say We Jews Shoul...   \n",
       "4115   An Alternate Narrative on Hillary Clinton and ...   \n",
       "...                                                  ...   \n",
       "17261  Ben Stein: ’Trump Didn’t Do Anything Wrong’ - ...   \n",
       "8059                         Bernie and the Sandernistas   \n",
       "24591  Joe Biden Plans to Stay Involved in Politics A...   \n",
       "16160  Bangladeshi Troops Move to End Hostage Standof...   \n",
       "15484  Civil Rights Act Protects Gay Workers, Court R...   \n",
       "\n",
       "                                                  author  \\\n",
       "5525                                            REALdeal   \n",
       "1739                                      Joel B. Pollak   \n",
       "16172                                  Finian Cunningham   \n",
       "19103                               A Jew (UID 73270427)   \n",
       "4115                                          Matt Peppe   \n",
       "...                                                  ...   \n",
       "17261                                        Trent Baker   \n",
       "8059                                             stclair   \n",
       "24591                                Katherine Rodriguez   \n",
       "16160  Julfikar Ali Manik, Geeta Anand and Russell Go...   \n",
       "15484                     Matthew Haag and Niraj Chokshi   \n",
       "\n",
       "                                                    text  label     id  \n",
       "5525   Your arteries are the system within your body ...      1   5526  \n",
       "1739   There is something decidedly odd about the Cal...      0   1740  \n",
       "16172   America and Lackeys Insult People of the Worl...      1  16173  \n",
       "19103  Report Copyright Violation If Soros Is Jewish ...      1  19104  \n",
       "4115   Email \\nElections in the United States are far...      1   4116  \n",
       "...                                                  ...    ...    ...  \n",
       "17261  During Saturday’s “Cavuto on Business,” former...      0  17262  \n",
       "8059   Post was not sent - check your email addresses...      1   8060  \n",
       "24591  Vice President Joe Biden said Wednesday that h...      1  24578  \n",
       "16160  DHAKA, Bangladesh  —   Bangladeshi Army troops...      0  16161  \n",
       "15484  In a significant victory for gay rights, a fed...      0  15485  \n",
       "\n",
       "[18167 rows x 5 columns]"
      ]
     },
     "execution_count": 37,
     "metadata": {},
     "output_type": "execute_result"
    }
   ],
   "source": [
    "news_test = unlabeled_news\n",
    "news_test"
   ]
  },
  {
   "cell_type": "code",
   "execution_count": 38,
   "id": "f881e8b9-1d8f-4397-9347-335ef1e2962d",
   "metadata": {},
   "outputs": [
    {
     "data": {
      "text/plain": [
       "0.8642880241457368"
      ]
     },
     "execution_count": 38,
     "metadata": {},
     "output_type": "execute_result"
    }
   ],
   "source": [
    "# # проверка результатов\n",
    "X_test = vectorizer.transform(news_test['text'])\n",
    "y_test_predicted = model.predict(X_test)\n",
    "# выводим полученный коэффициент точности\n",
    "f1 = f1_score(news_test['label'], y_test_predicted)\n",
    "f1"
   ]
  },
  {
   "cell_type": "markdown",
   "id": "acfdffaa-653b-4ab1-95e2-285b15a245f8",
   "metadata": {},
   "source": [
    "- Вывод - коэффициент точности предсказаний довольно высокий и составляет 0.864"
   ]
  },
  {
   "cell_type": "code",
   "execution_count": null,
   "id": "35ebdaeb-69ea-4cfd-a621-306493dd2fdb",
   "metadata": {},
   "outputs": [],
   "source": []
  }
 ],
 "metadata": {
  "kernelspec": {
   "display_name": "Python 3 (ipykernel)",
   "language": "python",
   "name": "python3"
  },
  "language_info": {
   "codemirror_mode": {
    "name": "ipython",
    "version": 3
   },
   "file_extension": ".py",
   "mimetype": "text/x-python",
   "name": "python",
   "nbconvert_exporter": "python",
   "pygments_lexer": "ipython3",
   "version": "3.12.3"
  }
 },
 "nbformat": 4,
 "nbformat_minor": 5
}
